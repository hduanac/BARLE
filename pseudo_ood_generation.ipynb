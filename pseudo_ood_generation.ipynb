{
 "cells": [
  {
   "cell_type": "markdown",
   "id": "crude-terror",
   "metadata": {},
   "source": [
    "## This notebook demonstrates how to generate pseudo OOD samples (&sect; 3.3). <br>"
   ]
  },
  {
   "cell_type": "code",
   "execution_count": 26,
   "id": "continued-northern",
   "metadata": {},
   "outputs": [],
   "source": [
    "import nlpaug.augmenter.word as naw\n",
    "from nltk.corpus import stopwords\n",
    "from datasets import load_dataset\n",
    "import pandas as pd\n",
    "import warnings\n",
    "import random\n",
    "import torch\n",
    "\n",
    "warnings.filterwarnings('ignore')\n",
    "pd.set_option('display.max_colwidth', None)\n",
    "pd.set_option('display.max_rows', None)\n",
    "random.seed(24)"
   ]
  },
  {
   "cell_type": "markdown",
   "id": "excess-forty",
   "metadata": {},
   "source": [
    "<b>VERSION</b>: <br><br>\n",
    "<li>nltk 3.5</li>\n",
    "<li>pandas 1.3.4</li>\n",
    "<li>datasets 1.18.4</li>\n",
    "<li>torch 1.9.0+cu111</li>"
   ]
  },
  {
   "cell_type": "markdown",
   "id": "increasing-equality",
   "metadata": {},
   "source": [
    "## Helper Functions"
   ]
  },
  {
   "cell_type": "code",
   "execution_count": 41,
   "id": "entitled-blink",
   "metadata": {},
   "outputs": [],
   "source": [
    "def load_sst2():\n",
    "    datasets = load_dataset('glue', 'sst2', cache_dir=\"./cache/sst2/\")\n",
    "    training_set = datasets['train']\n",
    "    dev_set = datasets['validation']\n",
    "    test_set = datasets['test']\n",
    "    return training_set, dev_set, test_set\n",
    "\n",
    "def highlight(x):\n",
    "    # To highlight some illustrative pseudo OOD examples with their corresponding ID samples.\n",
    "    if (x.Row in [0, 3, 9, 10, 11, 15, 19, ]): \n",
    "        return ['', 'background-color: lightsteelblue', 'background-color: bisque']\n",
    "    else:\n",
    "        return ['']*3"
   ]
  },
  {
   "cell_type": "markdown",
   "id": "tropical-failure",
   "metadata": {},
   "source": [
    "## Load SST2 Dataset"
   ]
  },
  {
   "cell_type": "code",
   "execution_count": 28,
   "id": "thick-nursery",
   "metadata": {},
   "outputs": [
    {
     "name": "stderr",
     "output_type": "stream",
     "text": [
      "Reusing dataset glue (./cache/sst2/glue/sst2/1.0.0/dacbe3125aa31d7f70367a07a8a9e72a5a0bfeb5fc42e75c9db75b96da6053ad)\n"
     ]
    },
    {
     "data": {
      "application/vnd.jupyter.widget-view+json": {
       "model_id": "462618b434f5404ebcb1dca508d3d5cf",
       "version_major": 2,
       "version_minor": 0
      },
      "text/plain": [
       "  0%|          | 0/3 [00:00<?, ?it/s]"
      ]
     },
     "metadata": {},
     "output_type": "display_data"
    }
   ],
   "source": [
    "training_set, dev_set, test_set = load_sst2()"
   ]
  },
  {
   "cell_type": "markdown",
   "id": "buried-scotland",
   "metadata": {},
   "source": [
    "## Generate Pseudo OOD Samples"
   ]
  },
  {
   "cell_type": "code",
   "execution_count": 29,
   "id": "caroline-substance",
   "metadata": {},
   "outputs": [],
   "source": [
    "device = torch.device('cuda:0' if torch.cuda.is_available() else 'cpu')\n",
    "\n",
    "# Please refer to https://github.com/makcedward/nlpaug for the detailed documentation. \n",
    "generator = naw.ContextualWordEmbsAug(model_path='distilbert-base-uncased', # We use DistilBERT as the generator.\n",
    "                                action='substitute',\n",
    "                                aug_p=0.7, # We set the replacement ratio to 0.7.\n",
    "                                top_k=100, # The candidate size is set to 100.\n",
    "                                stopwords=stopwords.words('english'), # We do not substitute stopwords.\n",
    "                                device=str(device),\n",
    "                                )\n",
    "\n",
    "# We randomly sample 20 examples from the development set for demonstration purposes.\n",
    "indices = list(range(dev_set.num_rows))\n",
    "random.shuffle(indices)\n",
    "ID_samples = [dev_set['sentence'][i] for i in indices[0:20]]\n",
    "\n",
    "pseudo_oods = []\n",
    "for id_sample in ID_samples:\n",
    "    pseudo_oods.append(generator.augment(id_sample))"
   ]
  },
  {
   "cell_type": "markdown",
   "id": "rising-killing",
   "metadata": {},
   "source": [
    "## ID Samples vs. Pseudo OOD Examples"
   ]
  },
  {
   "cell_type": "code",
   "execution_count": 42,
   "id": "polished-environment",
   "metadata": {},
   "outputs": [
    {
     "data": {
      "text/html": [
       "<style type=\"text/css\">\n",
       "#T_7d12e_row0_col0, #T_7d12e_row1_col0, #T_7d12e_row1_col1, #T_7d12e_row1_col2, #T_7d12e_row2_col0, #T_7d12e_row2_col1, #T_7d12e_row2_col2, #T_7d12e_row3_col0, #T_7d12e_row4_col0, #T_7d12e_row4_col1, #T_7d12e_row4_col2, #T_7d12e_row5_col0, #T_7d12e_row5_col1, #T_7d12e_row5_col2, #T_7d12e_row6_col0, #T_7d12e_row6_col1, #T_7d12e_row6_col2, #T_7d12e_row7_col0, #T_7d12e_row7_col1, #T_7d12e_row7_col2, #T_7d12e_row8_col0, #T_7d12e_row8_col1, #T_7d12e_row8_col2, #T_7d12e_row9_col0, #T_7d12e_row10_col0, #T_7d12e_row11_col0, #T_7d12e_row12_col0, #T_7d12e_row12_col1, #T_7d12e_row12_col2, #T_7d12e_row13_col0, #T_7d12e_row13_col1, #T_7d12e_row13_col2, #T_7d12e_row14_col0, #T_7d12e_row14_col1, #T_7d12e_row14_col2, #T_7d12e_row15_col0, #T_7d12e_row16_col0, #T_7d12e_row16_col1, #T_7d12e_row16_col2, #T_7d12e_row17_col0, #T_7d12e_row17_col1, #T_7d12e_row17_col2, #T_7d12e_row18_col0, #T_7d12e_row18_col1, #T_7d12e_row18_col2, #T_7d12e_row19_col0 {\n",
       "  text-align: left;\n",
       "}\n",
       "#T_7d12e_row0_col1, #T_7d12e_row3_col1, #T_7d12e_row9_col1, #T_7d12e_row10_col1, #T_7d12e_row11_col1, #T_7d12e_row15_col1, #T_7d12e_row19_col1 {\n",
       "  background-color: lightsteelblue;\n",
       "  text-align: left;\n",
       "}\n",
       "#T_7d12e_row0_col2, #T_7d12e_row3_col2, #T_7d12e_row9_col2, #T_7d12e_row10_col2, #T_7d12e_row11_col2, #T_7d12e_row15_col2, #T_7d12e_row19_col2 {\n",
       "  background-color: bisque;\n",
       "  text-align: left;\n",
       "}\n",
       "</style>\n",
       "<table id=\"T_7d12e_\">\n",
       "  <thead>\n",
       "    <tr>\n",
       "      <th class=\"blank level0\" >&nbsp;</th>\n",
       "      <th class=\"col_heading level0 col0\" >Row</th>\n",
       "      <th class=\"col_heading level0 col1\" >ID Examples</th>\n",
       "      <th class=\"col_heading level0 col2\" >Pseudo OODs</th>\n",
       "    </tr>\n",
       "  </thead>\n",
       "  <tbody>\n",
       "    <tr>\n",
       "      <th id=\"T_7d12e_level0_row0\" class=\"row_heading level0 row0\" >0</th>\n",
       "      <td id=\"T_7d12e_row0_col0\" class=\"data row0 col0\" >0</td>\n",
       "      <td id=\"T_7d12e_row0_col1\" class=\"data row0 col1\" >the talented and clever robert rodriguez perhaps put a little too much heart into his first film and did n't reserve enough for his second . </td>\n",
       "      <td id=\"T_7d12e_row0_col2\" class=\"data row0 col2\" >the talented and courageous robert blake thus incorporated a little too big effort into his final match and did don't reserve enough for his popularity.</td>\n",
       "    </tr>\n",
       "    <tr>\n",
       "      <th id=\"T_7d12e_level0_row1\" class=\"row_heading level0 row1\" >1</th>\n",
       "      <td id=\"T_7d12e_row1_col0\" class=\"data row1 col0\" >1</td>\n",
       "      <td id=\"T_7d12e_row1_col1\" class=\"data row1 col1\" >his comedy premises are often hackneyed or just plain crude , calculated to provoke shocked laughter , without following up on a deeper level . </td>\n",
       "      <td id=\"T_7d12e_row1_col2\" class=\"data row1 col2\" >his broadway performances are invariably witty or just deliberately crude, calculated to inspire shocked audiences, without catching up on a satirical tone.</td>\n",
       "    </tr>\n",
       "    <tr>\n",
       "      <th id=\"T_7d12e_level0_row2\" class=\"row_heading level0 row2\" >2</th>\n",
       "      <td id=\"T_7d12e_row2_col0\" class=\"data row2 col0\" >2</td>\n",
       "      <td id=\"T_7d12e_row2_col1\" class=\"data row2 col1\" >in exactly 89 minutes , most of which passed as slowly as if i 'd been sitting naked on an igloo , formula 51 sank from quirky to jerky to utter turkey . </td>\n",
       "      <td id=\"T_7d12e_row2_col2\" class=\"data row2 col2\" >in precisely fifteen minutes, most of which moved as slowly as if i'd been lying naked on an igloo, the 51 transitioned from neutral to distant to complete disbelief.</td>\n",
       "    </tr>\n",
       "    <tr>\n",
       "      <th id=\"T_7d12e_level0_row3\" class=\"row_heading level0 row3\" >3</th>\n",
       "      <td id=\"T_7d12e_row3_col0\" class=\"data row3 col0\" >3</td>\n",
       "      <td id=\"T_7d12e_row3_col1\" class=\"data row3 col1\" >teen movies have really hit the skids . </td>\n",
       "      <td id=\"T_7d12e_row3_col2\" class=\"data row3 col2\" >twitter profiles have strongly intrigued the fan.</td>\n",
       "    </tr>\n",
       "    <tr>\n",
       "      <th id=\"T_7d12e_level0_row4\" class=\"row_heading level0 row4\" >4</th>\n",
       "      <td id=\"T_7d12e_row4_col0\" class=\"data row4 col0\" >4</td>\n",
       "      <td id=\"T_7d12e_row4_col1\" class=\"data row4 col1\" >... a boring parade of talking heads and technical gibberish that will do little to advance the linux cause . </td>\n",
       "      <td id=\"T_7d12e_row4_col2\" class=\"data row4 col2\" >... a scientific search of african skeletons and ancient artefacts that will do something to modify the global environment.</td>\n",
       "    </tr>\n",
       "    <tr>\n",
       "      <th id=\"T_7d12e_level0_row5\" class=\"row_heading level0 row5\" >5</th>\n",
       "      <td id=\"T_7d12e_row5_col0\" class=\"data row5 col0\" >5</td>\n",
       "      <td id=\"T_7d12e_row5_col1\" class=\"data row5 col1\" >atom egoyan has conjured up a multilayered work that tackles any number of fascinating issues </td>\n",
       "      <td id=\"T_7d12e_row5_col2\" class=\"data row5 col2\" >the magazine has brought up a fictitious world that reveals any kinds of terrible things</td>\n",
       "    </tr>\n",
       "    <tr>\n",
       "      <th id=\"T_7d12e_level0_row6\" class=\"row_heading level0 row6\" >6</th>\n",
       "      <td id=\"T_7d12e_row6_col0\" class=\"data row6 col0\" >6</td>\n",
       "      <td id=\"T_7d12e_row6_col1\" class=\"data row6 col1\" >not an objectionable or dull film ; it merely lacks everything except good intentions . </td>\n",
       "      <td id=\"T_7d12e_row6_col2\" class=\"data row6 col2\" >not an exaggerated or offensive notion ; it rarely proved adequate save basic humour.</td>\n",
       "    </tr>\n",
       "    <tr>\n",
       "      <th id=\"T_7d12e_level0_row7\" class=\"row_heading level0 row7\" >7</th>\n",
       "      <td id=\"T_7d12e_row7_col0\" class=\"data row7 col0\" >7</td>\n",
       "      <td id=\"T_7d12e_row7_col1\" class=\"data row7 col1\" >they should have called it gutterball . </td>\n",
       "      <td id=\"T_7d12e_row7_col2\" class=\"data row7 col2\" >they should have gone it hot.</td>\n",
       "    </tr>\n",
       "    <tr>\n",
       "      <th id=\"T_7d12e_level0_row8\" class=\"row_heading level0 row8\" >8</th>\n",
       "      <td id=\"T_7d12e_row8_col0\" class=\"data row8 col0\" >8</td>\n",
       "      <td id=\"T_7d12e_row8_col1\" class=\"data row8 col1\" >its well of thorn and vinegar ( and simple humanity ) has long been plundered by similar works featuring the insight and punch this picture so conspicuously lacks . </td>\n",
       "      <td id=\"T_7d12e_row8_col2\" class=\"data row8 col2\" >its image of thorn and berries ( and its outline ) has long been replaced by comic artworks featuring the snake and punch this beast so conspicuously elusive.</td>\n",
       "    </tr>\n",
       "    <tr>\n",
       "      <th id=\"T_7d12e_level0_row9\" class=\"row_heading level0 row9\" >9</th>\n",
       "      <td id=\"T_7d12e_row9_col0\" class=\"data row9 col0\" >9</td>\n",
       "      <td id=\"T_7d12e_row9_col1\" class=\"data row9 col1\" >a compelling spanish film about the withering effects of jealousy in the life of a young monarch whose sexual passion for her husband becomes an obsession . </td>\n",
       "      <td id=\"T_7d12e_row9_col2\" class=\"data row9 col2\" >a biographical drama film about the withering tide of repression in the childhood of a young prince whose sexual pursuit for her throne proves an obstacle.</td>\n",
       "    </tr>\n",
       "    <tr>\n",
       "      <th id=\"T_7d12e_level0_row10\" class=\"row_heading level0 row10\" >10</th>\n",
       "      <td id=\"T_7d12e_row10_col0\" class=\"data row10 col0\" >10</td>\n",
       "      <td id=\"T_7d12e_row10_col1\" class=\"data row10 col1\" >a science-fiction pastiche so lacking in originality that if you stripped away its inspirations there would be precious little left . </td>\n",
       "      <td id=\"T_7d12e_row10_col2\" class=\"data row10 col2\" >a drama - thriller thriller so lacking in adventure that if you left them its glory there would be nothing gems else.</td>\n",
       "    </tr>\n",
       "    <tr>\n",
       "      <th id=\"T_7d12e_level0_row11\" class=\"row_heading level0 row11\" >11</th>\n",
       "      <td id=\"T_7d12e_row11_col0\" class=\"data row11 col0\" >11</td>\n",
       "      <td id=\"T_7d12e_row11_col1\" class=\"data row11 col1\" >belongs to daniel day-lewis as much as it belongs to martin scorsese ; it 's a memorable performance in a big , brassy , disturbing , unusual and highly successful film . </td>\n",
       "      <td id=\"T_7d12e_row11_col2\" class=\"data row11 col2\" >homage to daniel russell - johnston as much as it owes to martin freeman ; it's a memorable musical in a big, shocking, disturbing, unusual and unexpected psychedelic direction.</td>\n",
       "    </tr>\n",
       "    <tr>\n",
       "      <th id=\"T_7d12e_level0_row12\" class=\"row_heading level0 row12\" >12</th>\n",
       "      <td id=\"T_7d12e_row12_col0\" class=\"data row12 col0\" >12</td>\n",
       "      <td id=\"T_7d12e_row12_col1\" class=\"data row12 col1\" >the story and structure are well-honed . </td>\n",
       "      <td id=\"T_7d12e_row12_col2\" class=\"data row12 col2\" >the tone and character are horizontally - connected.</td>\n",
       "    </tr>\n",
       "    <tr>\n",
       "      <th id=\"T_7d12e_level0_row13\" class=\"row_heading level0 row13\" >13</th>\n",
       "      <td id=\"T_7d12e_row13_col0\" class=\"data row13 col0\" >13</td>\n",
       "      <td id=\"T_7d12e_row13_col1\" class=\"data row13 col1\" >there 's not enough here to justify the almost two hours . </td>\n",
       "      <td id=\"T_7d12e_row13_col2\" class=\"data row13 col2\" >there's not many here to celebrate the possibly endless weeks.</td>\n",
       "    </tr>\n",
       "    <tr>\n",
       "      <th id=\"T_7d12e_level0_row14\" class=\"row_heading level0 row14\" >14</th>\n",
       "      <td id=\"T_7d12e_row14_col0\" class=\"data row14 col0\" >14</td>\n",
       "      <td id=\"T_7d12e_row14_col1\" class=\"data row14 col1\" >it has its moments of swaggering camaraderie , but more often just feels generic , derivative and done to death . </td>\n",
       "      <td id=\"T_7d12e_row14_col2\" class=\"data row14 col2\" >it has its essence of surreal excitement, but more so just slightly dull, dull and silly to entertain.</td>\n",
       "    </tr>\n",
       "    <tr>\n",
       "      <th id=\"T_7d12e_level0_row15\" class=\"row_heading level0 row15\" >15</th>\n",
       "      <td id=\"T_7d12e_row15_col0\" class=\"data row15 col0\" >15</td>\n",
       "      <td id=\"T_7d12e_row15_col1\" class=\"data row15 col1\" >and that 's a big part of why we go to the movies . </td>\n",
       "      <td id=\"T_7d12e_row15_col2\" class=\"data row15 col2\" >and that's a crucial piece of why we got to the aquarium.</td>\n",
       "    </tr>\n",
       "    <tr>\n",
       "      <th id=\"T_7d12e_level0_row16\" class=\"row_heading level0 row16\" >16</th>\n",
       "      <td id=\"T_7d12e_row16_col0\" class=\"data row16 col0\" >16</td>\n",
       "      <td id=\"T_7d12e_row16_col1\" class=\"data row16 col1\" >instead , he shows them the respect they are due . </td>\n",
       "      <td id=\"T_7d12e_row16_col2\" class=\"data row16 col2\" >moreover, he provides them the money they are earning.</td>\n",
       "    </tr>\n",
       "    <tr>\n",
       "      <th id=\"T_7d12e_level0_row17\" class=\"row_heading level0 row17\" >17</th>\n",
       "      <td id=\"T_7d12e_row17_col0\" class=\"data row17 col0\" >17</td>\n",
       "      <td id=\"T_7d12e_row17_col1\" class=\"data row17 col1\" >try as i may , i ca n't think of a single good reason to see this movie , even though everyone in my group extemporaneously shouted , ` thank you ! ' </td>\n",
       "      <td id=\"T_7d12e_row17_col2\" class=\"data row17 col2\" >and as i remember, i ca didn't dispose of a single sane person to suggest this happen, least though everyone in my group extemporaneously shouted, ` shoot you! '</td>\n",
       "    </tr>\n",
       "    <tr>\n",
       "      <th id=\"T_7d12e_level0_row18\" class=\"row_heading level0 row18\" >18</th>\n",
       "      <td id=\"T_7d12e_row18_col0\" class=\"data row18 col0\" >18</td>\n",
       "      <td id=\"T_7d12e_row18_col1\" class=\"data row18 col1\" >an operatic , sprawling picture that 's entertainingly acted , magnificently shot and gripping enough to sustain most of its 170-minute length . </td>\n",
       "      <td id=\"T_7d12e_row18_col2\" class=\"data row18 col2\" >an ambitious, gripping story that's deeply stylized, was shot and imaginative enough to sustain most of its 360 - plus presentations.</td>\n",
       "    </tr>\n",
       "    <tr>\n",
       "      <th id=\"T_7d12e_level0_row19\" class=\"row_heading level0 row19\" >19</th>\n",
       "      <td id=\"T_7d12e_row19_col0\" class=\"data row19 col0\" >19</td>\n",
       "      <td id=\"T_7d12e_row19_col1\" class=\"data row19 col1\" >the fly-on-the-wall method used to document rural french school life is a refreshing departure from the now more prevalent technique of the docu-makers being a visible part of their work . </td>\n",
       "      <td id=\"T_7d12e_row19_col2\" class=\"data row19 col2\" >the knock - on - the - stump programme attempting to document rural english school education is a refreshing departure from the now more prevalent technique of the mini - etudes being a distinctive aspect of their work.</td>\n",
       "    </tr>\n",
       "  </tbody>\n",
       "</table>\n"
      ],
      "text/plain": [
       "<pandas.io.formats.style.Styler at 0x7f2a50a62dd8>"
      ]
     },
     "execution_count": 42,
     "metadata": {},
     "output_type": "execute_result"
    }
   ],
   "source": [
    "id_ood_df = pd.DataFrame()\n",
    "id_ood_df['ID Examples'] = ID_samples\n",
    "id_ood_df['Pseudo OODs'] = pseudo_oods\n",
    "id_ood_df.insert(loc=0, column='Row', value=list(range(0, 20)))\n",
    "id_ood_df.style.apply(highlight, axis=1).set_properties(**{'text-align': 'left'})"
   ]
  },
  {
   "cell_type": "markdown",
   "id": "established-skirt",
   "metadata": {},
   "source": [
    "<br><b style=\"font-size:24px;\">Background shifts:</b><br><br>\n",
    "<li>Row 0: film &rarr; match</li>\n",
    "<li>Row 3: teen movies &rarr; twitter profiles</li>\n",
    "<li>Row 9: spanish film &rarr; biographical drama</li>\n",
    "<li>Row 10: science-fiction &rarr; thriller</li>\n",
    "<li>Row 11: film &rarr; musical</li>\n",
    "<li>Row 15: movies &rarr; aquarium</li>\n",
    "<li>Row 19: french school life &rarr; english shcool education</li>"
   ]
  },
  {
   "cell_type": "code",
   "execution_count": null,
   "id": "former-blade",
   "metadata": {},
   "outputs": [],
   "source": []
  }
 ],
 "metadata": {
  "kernelspec": {
   "display_name": "Python 3",
   "language": "python",
   "name": "python3"
  },
  "language_info": {
   "codemirror_mode": {
    "name": "ipython",
    "version": 3
   },
   "file_extension": ".py",
   "mimetype": "text/x-python",
   "name": "python",
   "nbconvert_exporter": "python",
   "pygments_lexer": "ipython3",
   "version": "3.7.3"
  }
 },
 "nbformat": 4,
 "nbformat_minor": 5
}
